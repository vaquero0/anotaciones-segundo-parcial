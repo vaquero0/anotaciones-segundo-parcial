{
 "cells": [
  {
   "cell_type": "code",
   "execution_count": 1,
   "metadata": {},
   "outputs": [
    {
     "name": "stdout",
     "output_type": "stream",
     "text": [
      "total 64\n",
      "drwxr-xr-x 10 vagrant vagrant 4096 Sep 11 09:59 \u001b[0m\u001b[01;34m.\u001b[0m\n",
      "drwxr-xr-x  3 root    root    4096 Feb 23  2018 \u001b[01;34m..\u001b[0m\n",
      "-rw-------  1 vagrant vagrant   31 Sep  4 09:48 .bash_history\n",
      "-rw-r--r--  1 vagrant vagrant  220 Feb 23  2018 .bash_logout\n",
      "-rw-r--r--  1 vagrant vagrant 3713 Apr 22 14:20 .bashrc\n",
      "drwx------  3 vagrant vagrant 4096 Apr 22 14:28 \u001b[01;34m.cache\u001b[0m\n",
      "drwxr-xr-x  2 vagrant vagrant 4096 Sep 11 09:57 \u001b[01;34m.ipynb_checkpoints\u001b[0m\n",
      "drwxr-xr-x  5 vagrant vagrant 4096 Sep 11 09:57 \u001b[01;34m.ipython\u001b[0m\n",
      "drwx------  6 vagrant vagrant 4096 Sep 11 09:35 \u001b[01;34m.local\u001b[0m\n",
      "drwxr-xr-x  2 vagrant vagrant 4096 Feb 23  2018 \u001b[01;34m.nano\u001b[0m\n",
      "-rw-r--r--  1 vagrant vagrant  675 Feb 23  2018 .profile\n",
      "drwxr-xr-x  2 root    root    4096 Aug 30 12:50 \u001b[01;34mproyectos\u001b[0m\n",
      "drwxr-xr-x 13 vagrant vagrant 4096 Apr 22 14:20 \u001b[01;34m.pyenv\u001b[0m\n",
      "drwx------  2 vagrant vagrant 4096 Aug 30 12:50 \u001b[01;34m.ssh\u001b[0m\n",
      "-rw-r--r--  1 vagrant vagrant  410 Sep 11 09:59 Untitled.ipynb\n",
      "-rw-r--r--  1 vagrant vagrant  180 Feb 23  2018 .wget-hsts\n"
     ]
    }
   ],
   "source": [
    "ls -al"
   ]
  },
  {
   "cell_type": "code",
   "execution_count": null,
   "metadata": {},
   "outputs": [],
   "source": []
  },
  {
   "cell_type": "code",
   "execution_count": null,
   "metadata": {},
   "outputs": [],
   "source": []
  },
  {
   "cell_type": "code",
   "execution_count": null,
   "metadata": {},
   "outputs": [],
   "source": []
  },
  {
   "cell_type": "code",
   "execution_count": null,
   "metadata": {},
   "outputs": [],
   "source": []
  },
  {
   "cell_type": "markdown",
   "metadata": {},
   "source": [
    "# comandos basicos de linux\n",
    "aqui vamos a documentar algunos comandos basicos de Linux\n",
    "comando **ls**\n",
    "nos muestra en pantalla un listado de archivos del directorio donde estemos posicionados o bien recibe un parametro de la ruta a listar."
   ]
  },
  {
   "cell_type": "code",
   "execution_count": 2,
   "metadata": {},
   "outputs": [
    {
     "name": "stdout",
     "output_type": "stream",
     "text": [
      "\u001b[0m\u001b[01;34mproyectos\u001b[0m  Untitled.ipynb\n"
     ]
    }
   ],
   "source": [
    "ls"
   ]
  },
  {
   "cell_type": "code",
   "execution_count": 34,
   "metadata": {},
   "outputs": [
    {
     "name": "stdout",
     "output_type": "stream",
     "text": [
      "\u001b[0m\u001b[01;34m.\u001b[0m              \u001b[01;34m.cache\u001b[0m                     \u001b[01;34m.jupyter\u001b[0m   \u001b[01;34m.pyenv\u001b[0m\n",
      "\u001b[01;34m..\u001b[0m             \u001b[01;34mcopiame\u001b[0m                    \u001b[01;34m.local\u001b[0m     \u001b[01;34m.ssh\u001b[0m\n",
      ".bash_history  copianueva-Untitle2.ipynb  \u001b[01;34m.nano\u001b[0m      Untitled.ipynb\n",
      ".bash_logout   \u001b[01;34m.ipynb_checkpoints\u001b[0m         .profile   .wget-hsts\n",
      ".bashrc        \u001b[01;34m.ipython\u001b[0m                   \u001b[34;42mproyectos\u001b[0m\n"
     ]
    }
   ],
   "source": [
    "ls  -a"
   ]
  },
  {
   "cell_type": "markdown",
   "metadata": {},
   "source": [
    "el parametro **-a** muestra todos los archivos (ocultos y no ocultos)\n",
    "este parametro se puede mezclar con otros parametros"
   ]
  },
  {
   "cell_type": "code",
   "execution_count": 36,
   "metadata": {},
   "outputs": [
    {
     "name": "stdout",
     "output_type": "stream",
     "text": [
      "total 84K\n",
      "drwxr-xr-x 12 vagrant vagrant 4.0K Sep 18 10:00 \u001b[0m\u001b[01;34m.\u001b[0m\n",
      "drwxr-xr-x  3 root    root    4.0K Feb 23  2018 \u001b[01;34m..\u001b[0m\n",
      "-rw-------  1 vagrant vagrant  686 Sep 11 10:11 .bash_history\n",
      "-rw-r--r--  1 vagrant vagrant  220 Feb 23  2018 .bash_logout\n",
      "-rw-r--r--  1 vagrant vagrant 3.7K Apr 22 14:20 .bashrc\n",
      "drwx------  3 vagrant vagrant 4.0K Apr 22 14:28 \u001b[01;34m.cache\u001b[0m\n",
      "drwxr-xr-x  2 vagrant vagrant 4.0K Sep 18 09:26 \u001b[01;34mcopiame\u001b[0m\n",
      "-rw-r--r--  1 vagrant vagrant 3.9K Sep 18 09:31 copianueva-Untitle2.ipynb\n",
      "drwxr-xr-x  2 vagrant vagrant 4.0K Sep 11 09:57 \u001b[01;34m.ipynb_checkpoints\u001b[0m\n",
      "drwxr-xr-x  5 vagrant vagrant 4.0K Sep 11 09:57 \u001b[01;34m.ipython\u001b[0m\n",
      "drwxr-xr-x  2 vagrant vagrant 4.0K Sep 18 08:41 \u001b[01;34m.jupyter\u001b[0m\n",
      "drwx------  6 vagrant vagrant 4.0K Sep 11 09:35 \u001b[01;34m.local\u001b[0m\n",
      "drwxr-xr-x  2 vagrant vagrant 4.0K Feb 23  2018 \u001b[01;34m.nano\u001b[0m\n",
      "-rw-r--r--  1 vagrant vagrant  675 Feb 23  2018 .profile\n",
      "drwxrwxrwx  1 vagrant vagrant 4.0K Aug 30 12:44 \u001b[34;42mproyectos\u001b[0m\n",
      "drwxr-xr-x 13 vagrant vagrant 4.0K Apr 22 14:20 \u001b[01;34m.pyenv\u001b[0m\n",
      "drwx------  2 vagrant vagrant 4.0K Aug 30 12:50 \u001b[01;34m.ssh\u001b[0m\n",
      "-rw-r--r--  1 vagrant vagrant 8.6K Sep 18 10:00 Untitled.ipynb\n",
      "-rw-r--r--  1 vagrant vagrant  180 Feb 23  2018 .wget-hsts\n"
     ]
    }
   ],
   "source": [
    "ls -alh"
   ]
  },
  {
   "cell_type": "markdown",
   "metadata": {},
   "source": [
    "el parametro **-l** nos muestra en una lista los archivos y añade informacion del archivo o directorio mostrado (permisos, a quien le pertenece y grupo al que pertenece, tamaño en disco, fecha de creacion o modificacion)\n",
    "NOTA: podemos diferenciar entre un archivo o directorio por la inicial mostrada (**d**rwxr-xr-x **rw-r--r--**archivo)\n",
    "el parametro **-h** nos muestra en un formato mas amigable *human readable* el tamaño de los archivos."
   ]
  },
  {
   "cell_type": "markdown",
   "metadata": {},
   "source": [
    "# copiar archivos y directorios \n",
    "copiar archivos y directorios en linux podemos usar el comando **cp**\n",
    "el primer parametro es el nombre del archivo o directorio origen, y el segundo parametro es el archivo o ruta donde se creara la copia de este."
   ]
  },
  {
   "cell_type": "code",
   "execution_count": 22,
   "metadata": {},
   "outputs": [
    {
     "name": "stdout",
     "output_type": "stream",
     "text": [
      "\u001b[0m\u001b[01;34mcopiame\u001b[0m  copianueva-Untitle2.ipynb  \u001b[34;42mproyectos\u001b[0m  Untitled.ipynb\n"
     ]
    }
   ],
   "source": [
    "ls"
   ]
  },
  {
   "cell_type": "raw",
   "metadata": {},
   "source": [
    "cp Untitle.ipynb copia-Untitled.ipynb"
   ]
  },
  {
   "cell_type": "code",
   "execution_count": 9,
   "metadata": {},
   "outputs": [],
   "source": [
    "mkdir copiame "
   ]
  },
  {
   "cell_type": "code",
   "execution_count": 15,
   "metadata": {},
   "outputs": [],
   "source": [
    "cp Untitled.ipynb copiame/copia-Untitle2.ipynb"
   ]
  },
  {
   "cell_type": "code",
   "execution_count": 16,
   "metadata": {},
   "outputs": [
    {
     "name": "stdout",
     "output_type": "stream",
     "text": [
      "copia-Untitle2.ipynb\n"
     ]
    }
   ],
   "source": [
    "ls copiame"
   ]
  },
  {
   "cell_type": "code",
   "execution_count": 23,
   "metadata": {},
   "outputs": [
    {
     "name": "stdout",
     "output_type": "stream",
     "text": [
      "/home/vagrant\n"
     ]
    }
   ],
   "source": [
    "pwd"
   ]
  },
  {
   "cell_type": "code",
   "execution_count": null,
   "metadata": {},
   "outputs": [],
   "source": []
  },
  {
   "cell_type": "code",
   "execution_count": 21,
   "metadata": {},
   "outputs": [],
   "source": [
    "cp copiame/copia-Untitle2.ipynb ./copianueva-Untitle2.ipynb"
   ]
  },
  {
   "cell_type": "code",
   "execution_count": null,
   "metadata": {},
   "outputs": [],
   "source": [
    "# comando ps\n",
    "Este comando nos permite observar los procesos, lee directamente la informacion del sistema de archivos/poc\n"
   ]
  },
  {
   "cell_type": "code",
   "execution_count": 2,
   "metadata": {},
   "outputs": [
    {
     "name": "stdout",
     "output_type": "stream",
     "text": [
      "UID        PID  PPID  C STIME TTY          TIME CMD\n",
      "root         1     0  0 08:31 ?        00:00:01 /sbin/init\n",
      "root         2     0  0 08:31 ?        00:00:00 [kthreadd]\n",
      "root         3     2  0 08:31 ?        00:00:00 [ksoftirqd/0]\n",
      "root         5     2  0 08:31 ?        00:00:00 [kworker/0:0H]\n",
      "root         7     2  0 08:31 ?        00:00:00 [rcu_sched]\n",
      "root         8     2  0 08:31 ?        00:00:00 [rcu_bh]\n",
      "root         9     2  0 08:31 ?        00:00:00 [migration/0]\n",
      "root        10     2  0 08:31 ?        00:00:00 [lru-add-drain]\n",
      "root        11     2  0 08:31 ?        00:00:00 [watchdog/0]\n",
      "root        12     2  0 08:31 ?        00:00:00 [cpuhp/0]\n",
      "root        13     2  0 08:31 ?        00:00:00 [kdevtmpfs]\n",
      "root        14     2  0 08:31 ?        00:00:00 [netns]\n",
      "root        15     2  0 08:31 ?        00:00:00 [khungtaskd]\n",
      "root        16     2  0 08:31 ?        00:00:00 [oom_reaper]\n",
      "root        17     2  0 08:31 ?        00:00:00 [writeback]\n",
      "root        18     2  0 08:31 ?        00:00:00 [kcompactd0]\n",
      "root        19     2  0 08:31 ?        00:00:00 [ksmd]\n",
      "root        21     2  0 08:31 ?        00:00:00 [khugepaged]\n",
      "root        22     2  0 08:31 ?        00:00:00 [crypto]\n",
      "root        23     2  0 08:31 ?        00:00:00 [kintegrityd]\n",
      "root        24     2  0 08:31 ?        00:00:00 [bioset]\n",
      "root        25     2  0 08:31 ?        00:00:00 [kblockd]\n",
      "root        26     2  0 08:31 ?        00:00:00 [devfreq_wq]\n",
      "root        27     2  0 08:31 ?        00:00:00 [watchdogd]\n",
      "root        28     2  0 08:31 ?        00:00:00 [kswapd0]\n",
      "root        29     2  0 08:31 ?        00:00:00 [vmstat]\n",
      "root        41     2  0 08:31 ?        00:00:00 [kthrotld]\n",
      "root        42     2  0 08:31 ?        00:00:00 [ipv6_addrconf]\n",
      "root        77     2  0 08:31 ?        00:00:00 [ata_sff]\n",
      "root        83     2  0 08:31 ?        00:00:00 [kworker/u2:1]\n",
      "root       103     2  0 08:31 ?        00:00:00 [scsi_eh_0]\n",
      "root       104     2  0 08:31 ?        00:00:00 [scsi_tmf_0]\n",
      "root       105     2  0 08:31 ?        00:00:00 [scsi_eh_1]\n",
      "root       106     2  0 08:31 ?        00:00:00 [scsi_tmf_1]\n",
      "root       107     2  0 08:31 ?        00:00:00 [scsi_eh_2]\n",
      "root       108     2  0 08:31 ?        00:00:00 [scsi_tmf_2]\n",
      "root       109     2  0 08:31 ?        00:00:00 [kworker/u2:2]\n",
      "root       111     2  0 08:31 ?        00:00:00 [bioset]\n",
      "root       112     2  0 08:31 ?        00:00:00 [bioset]\n",
      "root       115     2  0 08:31 ?        00:00:00 [kworker/0:1H]\n",
      "root       143     2  0 08:31 ?        00:00:00 [kworker/u3:0]\n",
      "root       153     2  0 08:31 ?        00:00:00 [jbd2/sda1-8]\n",
      "root       154     2  0 08:31 ?        00:00:00 [ext4-rsv-conver]\n",
      "root       182     1  0 08:31 ?        00:00:00 /lib/systemd/systemd-journald\n",
      "root       186     2  0 08:31 ?        00:00:00 [kauditd]\n",
      "root       221     1  0 08:31 ?        00:00:00 /lib/systemd/systemd-udevd\n",
      "root       293     2  0 08:31 ?        00:00:00 [ttm_swap]\n",
      "root       300     2  0 08:31 ?        00:00:00 [iprt-VBoxWQueue]\n",
      "root       385     1  0 08:31 ?        00:00:00 /usr/sbin/cron -f\n",
      "root       388     1  0 08:31 ?        00:00:00 /usr/sbin/rsyslogd -n\n",
      "message+   390     1  0 08:31 ?        00:00:00 /usr/bin/dbus-daemon --system --\n",
      "root       416     1  0 08:31 ?        00:00:00 /lib/systemd/systemd-logind\n",
      "root       450     1  0 08:31 tty1     00:00:00 /sbin/agetty --noclear tty1 linu\n",
      "root       455     1  0 08:31 ?        00:00:00 /sbin/dhclient -4 -v -pf /run/dh\n",
      "root       469     1  0 08:31 ?        00:00:00 /usr/sbin/sshd -D\n",
      "Debian-+   733     1  0 08:32 ?        00:00:00 /usr/sbin/exim4 -bd -q30m\n",
      "root      1233     1  0 08:32 ?        00:00:00 /usr/sbin/VBoxService --pidfile \n",
      "root      1243   469  0 08:33 ?        00:00:00 sshd: vagrant [priv]\n",
      "vagrant   1245     1  0 08:33 ?        00:00:00 /lib/systemd/systemd --user\n",
      "vagrant   1246  1245  0 08:33 ?        00:00:00 (sd-pam)\n",
      "vagrant   1252  1243  0 08:33 ?        00:00:00 sshd: vagrant@pts/0\n",
      "vagrant   1253  1252  0 08:33 pts/0    00:00:00 -bash\n",
      "vagrant   1341  1253  0 08:33 pts/0    00:00:09 /usr/bin/python /home/vagrant/.l\n",
      "vagrant   1349  1341  0 08:38 ?        00:00:00 /usr/bin/python -m bash_kernel -\n",
      "vagrant   1361  1349  0 08:38 pts/1    00:00:00 /bin/bash --rcfile /home/vagrant\n",
      "root      1450     2  0 08:47 ?        00:00:01 [kworker/0:2]\n",
      "root      1454     2  0 09:03 ?        00:00:00 [kworker/0:1]\n",
      "root      1456     2  0 09:08 ?        00:00:00 [kworker/0:0]\n",
      "vagrant   1457  1361  0 09:10 pts/1    00:00:00 ps -ef\n"
     ]
    }
   ],
   "source": [
    "ps -ef"
   ]
  },
  {
   "cell_type": "markdown",
   "metadata": {},
   "source": [
    "kill -9 206\n"
   ]
  },
  {
   "cell_type": "code",
   "execution_count": null,
   "metadata": {},
   "outputs": [],
   "source": [
    "killall ping"
   ]
  },
  {
   "cell_type": "code",
   "execution_count": 3,
   "metadata": {},
   "outputs": [
    {
     "name": "stdout",
     "output_type": "stream",
     "text": [
      "Usage: nice [OPTION] [COMMAND [ARG]...]\n",
      "Run COMMAND with an adjusted niceness, which affects process scheduling.\n",
      "With no COMMAND, print the current niceness.  Niceness values range from\n",
      "-20 (most favorable to the process) to 19 (least favorable to the process).\n",
      "\n",
      "Mandatory arguments to long options are mandatory for short options too.\n",
      "  -n, --adjustment=N   add integer N to the niceness (default 10)\n",
      "      --help     display this help and exit\n",
      "      --version  output version information and exit\n",
      "\n",
      "NOTE: your shell may have its own version of nice, which usually supersedes\n",
      "the version described here.  Please refer to your shell's documentation\n",
      "for details about the options it supports.\n",
      "\n",
      "GNU coreutils online help: <http://www.gnu.org/software/coreutils/>\n",
      "Full documentation at: <http://www.gnu.org/software/coreutils/nice>\n",
      "or available locally via: info '(coreutils) nice invocation'\n"
     ]
    }
   ],
   "source": [
    "nice --help"
   ]
  },
  {
   "cell_type": "markdown",
   "metadata": {},
   "source": [
    "*Diferencias entre un hilo y un proceso*\n",
    "\n",
    "\n"
   ]
  },
  {
   "cell_type": "markdown",
   "metadata": {},
   "source": [
    "# comando tree\n",
    "el comando **tree** nos permite imprimir en la consola la estructura de directorios y sus archivos, lo muestra en un diagrama de niveles y sub-niveles "
   ]
  },
  {
   "cell_type": "code",
   "execution_count": 27,
   "metadata": {},
   "outputs": [
    {
     "name": "stdout",
     "output_type": "stream",
     "text": [
      "\u001b[01;34m/home\u001b[00m\n",
      "└── \u001b[01;34mvagrant\u001b[00m\n",
      "    ├── \u001b[01;34mcopiame\u001b[00m\n",
      "    │   └── copia-Untitle2.ipynb\n",
      "    ├── copianueva-Untitle2.ipynb\n",
      "    ├── \u001b[34;42mproyectos\u001b[00m\n",
      "    │   ├── \u001b[01;32mDebian9.8x64-pythondev.box\u001b[00m\n",
      "    │   └── \u001b[01;32mVagrantfile\u001b[00m\n",
      "    └── Untitled.ipynb\n",
      "\n",
      "3 directories, 5 files\n"
     ]
    }
   ],
   "source": [
    " tree /home"
   ]
  },
  {
   "cell_type": "markdown",
   "metadata": {},
   "source": [
    "# Permisos del propietario\n",
    "El propietario es aquel usuario que genera o crea un archivo/carpeta dentro de su directorio de trabajo (HOME), o en algún otro directorio sobre el que tenga derechos. Cada usuario tiene la potestad de crear, por defecto, los archivos que quiera dentro de su directorio de trabajo. En principio, él y solamente él será el que tenga acceso a la información contenida en los archivos y directorios que hay en su directorio HOME."
   ]
  },
  {
   "cell_type": "markdown",
   "metadata": {},
   "source": [
    "# Permisos del grupo\n",
    "Lo más normal es que cada usuario pertenezca a un grupo de trabajo. De esta forma, cuando se gestiona un grupo, se gestionan todos los usuarios que pertenecen a éste. Es decir, es más fácil integrar varios usuarios en un grupo al que se le conceden determinados privilegios en el sistema, que asignar los privilegios de forma independiente a cada usuario."
   ]
  },
  {
   "cell_type": "markdown",
   "metadata": {},
   "source": [
    "# Permisos del resto de usuarios\n",
    "Por último, también los privilegios de los archivos contenidos en cualquier directorio, pueden tenerlos otros usuarios que no pertenezcan al grupo de trabajo en el que está integrado el archivo en cuestión. Es decir, a los usuarios que no pertenecen al grupo de trabajo en el que está el archivo, pero que pertenecen a otros grupos de trabajo, se les denomina resto de usuarios del sistema."
   ]
  },
  {
   "cell_type": "markdown",
   "metadata": {},
   "source": [
    "# Permisos para archivos\n",
    "\n",
    "Lectura. permite, fundamentalmente, visualizar el contenido del archivo.\n",
    "\n",
    "Escritura. permite modificar el contenido del archivo.\n",
    "\n",
    "Ejecución. permite ejecutar el archivo como si de un programa ejecutable se tratase."
   ]
  },
  {
   "cell_type": "markdown",
   "metadata": {},
   "source": [
    "# Permisos para directorios\n",
    "\n",
    "<° Lectura: Permite saber qué archivos y directorios contiene el directorio que tiene este permiso.\n",
    "\n",
    "<° Escritura: permite crear archivos en el directorio, bien sean archivos ordinarios o nuevos directorios. Se pueden borrar directorios, copiar archivos en el directorio, mover, cambiar el nombre, etc.\n",
    "\n",
    "<° Ejecución: permite situarse sobre el directorio para poder examinar su contenido, copiar archivos de o hacia él. Si además se dispone de los permisos de escritura y lectura, se podrán realizar todas las operaciones posibles sobre archivos y directorios."
   ]
  },
  {
   "cell_type": "markdown",
   "metadata": {},
   "source": [
    "# Asignación de permisos\n",
    "\n",
    "El comando chmod (“change mode”) permite modificar la máscara para que se puedan realizar más o menos operaciones sobre archivos o directorios, dicho de otra forma, con chmod puedes quitar o eliminar derechos a cada tipo de usuarios. Si no se especifica el tipo de usuario al que queremos quitar, poner o asignar privilegios, lo que sucederá al realizar la operación es afectar a todos los usuarios simultáneamente."
   ]
  },
  {
   "cell_type": "markdown",
   "metadata": {},
   "source": [
    "# Tipos de permiso:\n",
    "\n",
    "Permiso\tIdentifica\n",
    "\n",
    "r\tPermiso de lectura\n",
    "\n",
    "w\tPermiso de escritura\n",
    "\n",
    "x\tPermiso de ejecución\n",
    " "
   ]
  },
  {
   "cell_type": "markdown",
   "metadata": {},
   "source": [
    " # Dar permiso de ejecución al dueño:\n",
    "\n",
    "$ chmod u+x komodo.sh\n",
    "\n",
    "Quitar permiso de ejecución a todos los usuarios:\n",
    "\n",
    "$ chmod -x komodo.sh\n",
    "\n",
    "Dar permiso de lectura y escritura a los demás usuarios:\n",
    "\n",
    "$ chmod o+r+w komodo.sh\n",
    "\n",
    "Dejar solo permiso de lectura al grupo al que pertenece el archivo:\n",
    "\n",
    "$ chmod g+r-w-x komodo.sh"
   ]
  },
  {
   "cell_type": "markdown",
   "metadata": {},
   "source": [
    "# Permisos en formato numérico octal\n",
    "\n",
    "Hay otra forma de utilizar el comando chmod que, para muchos usuarios, resulta “más cómoda”, aunque a priori sea algo más compleja de entender ¬¬.\n",
    "\n",
    "La combinación de valores de cada grupo de los usuarios forma un número octal, el bit “x” es 20 es decir 1, el bit w es 21 es decir 2, el bit r es 22 es decir 4, tenemos entonces:\n",
    "\n",
    "<° r  =  4\n",
    "\n",
    "<° w  =  2\n",
    "\n",
    "<° x  =  1\n",
    "\n"
   ]
  },
  {
   "cell_type": "markdown",
   "metadata": {},
   "source": [
    "\n",
    "# Permiso\tValor Octal\tDescripción\n",
    "\n",
    "– – –\t0\tno se tiene ningún permiso\n",
    "\n",
    "– – x\t1\tsolo permiso de ejecución\n",
    "\n",
    "– w –\t2\tsolo permiso de escritura\n",
    "\n",
    "– w x\t3\tpermisos de escritura y ejecución\n",
    "\n",
    "r – –\t4\tsolo permiso de lectura\n",
    "\n",
    "r – x\t5\tpermisos de lectura y ejecución\n",
    "\n",
    "r w –\t6\tpermisos de lectura y escritura\n",
    "\n",
    "r w x\t7\ttodos los permisos establecidos, lectura, escritura y ejecución\n",
    " "
   ]
  },
  {
   "cell_type": "markdown",
   "metadata": {},
   "source": [
    "# Permiso\tValor\tDescripción\n",
    "\n",
    "rw– ––– –—\t600\tEl propietario tiene permisos de lectura y escritura\n",
    "\n",
    "rwx ––x ––x\t711\tEl propietario lectura, escritura y ejecución, el grupo y otros solo ejecución\n",
    "\n",
    "\n",
    "rwx r-x r-x\t755\tEl propietario lectura, escritura y ejecución, el grupo y otros pueden leer y ejecutar el archivo\n",
    "\n",
    "rwx rwx rwx\t777\tEl archivo puede ser leído, escrito y ejecutado por quien sea\n",
    "\n",
    "r–– ––– –—\t400\tSolo el propietario puede leer el archivo, pero ni el mismo puede modificarlo o ejecutarlo y por supuesto ni el grupo ni otros pueden hacer nada en el\n",
    "\n",
    "rw- r-– –––\t640\tEl usuario propietario puede leer y escribir, el grupo puede leer el archivo y otros no pueden hacer nada\n"
   ]
  },
  {
   "cell_type": "markdown",
   "metadata": {},
   "source": [
    "# Permisos especiales\n",
    "\n",
    "Aún hay otro tipo de permisos que hay que considerar. Se trata del bit de permisos SUID (Set User ID), el bit de permisos SGID (Set Group ID) y el bit de permisos de persistencia (sticky bit).\n",
    "\n",
    "# setuid\n",
    "\n",
    "El bit setuid es asignable a ficheros ejecutables, y permite que cuando un usuario ejecute dicho fichero, el proceso adquiera los permisos del propietario del fichero ejecutado. El ejemplo más claro de fichero ejecutable y con el bit setuid es:\n",
    "\n",
    "$ su"
   ]
  }
 ],
 "metadata": {
  "kernelspec": {
   "display_name": "Bash",
   "language": "bash",
   "name": "bash"
  },
  "language_info": {
   "codemirror_mode": "shell",
   "file_extension": ".sh",
   "mimetype": "text/x-sh",
   "name": "bash"
  }
 },
 "nbformat": 4,
 "nbformat_minor": 2
}
